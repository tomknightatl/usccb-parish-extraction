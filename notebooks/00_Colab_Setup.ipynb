{
 "cells": [
  {
   "cell_type": "markdown",
   "metadata": {
    "id": "setup_title"
   },
   "source": [
    "# USCCB Parish Extraction - Google Colab Setup\n",
    "\n",
    "This notebook sets up the environment for parish extraction in Google Colab.\n",
    "\n",
    "## Required Secrets\n",
    "Add these to your Colab Secrets (🔑 icon in sidebar):\n",
    "- `SUPABASE_URL` - Your Supabase project URL\n",
    "- `SUPABASE_KEY` - Your Supabase API key\n",
    "- `GENAI_API_KEY_USCCB` - Your Google AI API key"
   ]
  },
  {
   "cell_type": "code",
   "execution_count": null,
   "metadata": {
    "id": "clone_repo"
   },
   "outputs": [],
   "source": [
    "# Cell 1: Clone Repository and Install Dependencies\n",
    "import os\n",
    "import sys\n",
    "\n",
    "# Clone the repository (only if not already cloned)\n",
    "if not os.path.exists('/content/usccb-parish-extraction'):\n",
    "    !git clone https://github.com/tomknightatl/usccb-parish-extraction.git\n",
    "    print(\"✅ Repository cloned\")\n",
    "else:\n",
    "    print(\"✅ Repository already exists\")\n",
    "    os.chdir('/content/usccb-parish-extraction')\n",
    "    !git pull  # Update to latest version\n",
    "    print(\"✅ Repository updated\")\n",
    "\n",
    "# Change to repo directory\n",
    "os.chdir('/content/usccb-parish-extraction')\n",
    "\n",
    "# Install dependencies\n",
    "!pip install -r requirements.txt\n",
    "print(\"✅ Dependencies installed\")"
   ]
  },
  {
   "cell_type": "code",
   "execution_count": null,
   "metadata": {
    "id": "setup_paths"
   },
   "outputs": [],
   "source": [
    "# Cell 2: Setup Python Paths\n",
    "import sys\n",
    "import os\n",
    "\n",
    "# Add src directory to Python path so we can import our modules\n",
    "repo_path = '/content/usccb-parish-extraction'\n",
    "if repo_path not in sys.path:\n",
    "    sys.path.append(repo_path)\n",
    "\n",
    "# Change to repository directory\n",
    "os.chdir(repo_path)\n",
    "\n",
    "print(f\"✅ Working directory: {os.getcwd()}\")\n",
    "print(f\"✅ Python path configured\")"
   ]
  },
  {
   "cell_type": "code",
   "execution_count": null,
   "metadata": {
    "id": "setup_config"
   },
   "outputs": [],
   "source": [
    "# Cell 3: Setup Configuration with Colab Secrets\n",
    "from google.colab import userdata\n",
    "from config.settings import setup_environment, set_config\n",
    "\n",
    "# Setup environment with Colab secrets\n",
    "try:\n",
    "    config = setup_environment(\n",
    "        supabase_url=userdata.get('SUPABASE_URL'),\n",
    "        supabase_key=userdata.get('SUPABASE_KEY'),\n",
    "        genai_api_key=userdata.get('GENAI_API_KEY_USCCB'),\n",
    "        max_dioceses=5  # Default for demos\n",
    "    )\n",
    "    \n",
    "    # Set global config\n",
    "    set_config(config)\n",
    "    \n",
    "    print(\"✅ Configuration setup complete\")\n",
    "    \n",
    "except Exception as e:\n",
    "    print(f\"❌ Configuration error: {e}\")\n",
    "    print(\"\\nPlease ensure you have added the required secrets to Colab:\")\n",
    "    print(\"1. Click the 🔑 icon in the left sidebar\")\n",
    "    print(\"2. Add secrets: SUPABASE_URL, SUPABASE_KEY, GENAI_API_KEY_USCCB\")\n",
    "    print(\"3. Enable notebook access for each secret\")\n",
    "    config = None"
   ]
  },
  {
   "cell_type": "code",
   "execution_count": null,
   "metadata": {
    "id": "verify_setup"
   },
   "outputs": [],
   "source": [
    "# Cell 4: Verify Installation\n",
    "try:\n",
    "    # Test core imports\n",
    "    from src.models import Parish, ExtractionResult, SiteType, Diocese\n",
    "    from src.utils.webdriver import setup_driver, clean_text\n",
    "    from src.utils.ai_analysis import analyze_with_ai, detect_site_type\n",
    "    from src.utils.database import save_parishes_to_database\n",
    "    from src.extractors import get_extractor\n",
    "    from src.pipeline import ParishExtractionPipeline\n",
    "    \n",
    "    print(\"✅ All core modules imported successfully\")\n",
    "    \n",
    "    # Test configuration\n",
    "    if config:\n",
    "        print(f\"✅ Database: {'Connected' if config.supabase else 'Not connected'}\")\n",
    "        print(f\"✅ AI: {'Configured' if config.genai_enabled else 'Mock mode'}\")\n",
    "        print(f\"✅ Max dioceses: {config.max_dioceses}\")\n",
    "        print(\"\\n🚀 Ready to run parish extraction!\")\n",
    "    else:\n",
    "        print(\"⚠️ Configuration incomplete - some features may not work\")\n",
    "    \n",
    "except ImportError as e:\n",
    "    print(f\"❌ Import error: {e}\")\n",
    "    print(\"Please check that all files are in the correct location\")\n",
    "    print(\"You may need to restart the runtime and run the setup again\")"
   ]
  },
  {
   "cell_type": "code",
   "execution_count": null,
   "metadata": {
    "id": "quick_test"
   },
   "outputs": [],
   "source": [
    "# Cell 5: Quick System Test (Optional)\n",
    "if config:\n",
    "    print(\"🧪 Running quick system test...\")\n",
    "    \n",
    "    try:\n",
    "        # Test webdriver setup\n",
    "        driver = setup_driver()\n",
    "        print(\"✅ WebDriver setup successful\")\n",
    "        driver.quit()\n",
    "        \n",
    "        # Test AI analysis (with mock if no API key)\n",
    "        result = analyze_with_ai(\"parish directory test\", \"parish_directory\")\n",
    "        print(f\"✅ AI analysis working (score: {result.get('score', 'N/A')})\")\n",
    "        \n",
    "        # Test database connection\n",
    "        if config.supabase:\n",
    "            response = config.supabase.table('Dioceses').select('Name').limit(1).execute()\n",
    "            print(\"✅ Database connection verified\")\n",
    "        else:\n",
    "            print(\"⚠️ Database not configured - will run in test mode\")\n",
    "        \n",
    "        print(\"\\n🎉 All systems ready! You can now run the other notebooks.\")\n",
    "        \n",
    "    except Exception as e:\n",
    "        print(f\"⚠️ Test warning: {e}\")\n",
    "        print(\"System may still work, but with limited functionality\")\n",
    "else:\n",
    "    print(\"⚠️ Skipping system test - configuration incomplete\")"
   ]
  }
 ],
 "metadata": {
  "colab": {
   "provenance": []
  },
  "kernelspec": {
   "display_name": "Python 3",
   "name": "python3"
  },
  "language_info": {
   "name": "python"
  }
 },
 "nbformat": 4,
 "nbformat_minor": 0
}
