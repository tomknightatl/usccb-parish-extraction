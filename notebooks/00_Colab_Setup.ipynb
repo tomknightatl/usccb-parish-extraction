{
 "cells": [
  {
   "cell_type": "markdown",
   "metadata": {
    "id": "title"
   },
   "source": [
    "# Simple Parish Extraction Demo\n",
    "\n",
    "This notebook demonstrates the complete parish extraction pipeline in just a few cells.\n",
    "\n",
    "**Prerequisites**: \n",
    "1. Run `00_Colab_Setup.ipynb` first\n",
    "2. Run `01_Build_Dioceses_Database.ipynb` to populate dioceses\n",
    "\n",
    "**What this does**:\n",
    "- Finds parish directory pages for dioceses\n",
    "- Extracts parish data using AI-powered analysis\n",
    "- Saves results to your Supabase database"
   ]
  },
  {
   "cell_type": "code",
   "execution_count": null,
   "metadata": {
    "id": "setup"
   },
   "outputs": [],
   "source": [
    "# Cell 1: Setup and Configuration\n",
    "from config.settings import get_config, set_config\n",
    "from src.pipeline import ParishExtractionPipeline\n",
    "\n",
    "# Get configuration (should be set from setup notebook)\n",
    "try:\n",
    "    config = get_config()\n",
    "    print(\"✅ Configuration loaded\")\n",
    "    print(f\"   Database: {'Connected' if config.supabase else 'Not connected'}\")\n",
    "    print(f\"   AI: {'Enabled' if config.genai_enabled else 'Mock mode'}\")\n",
    "    print(f\"   Max dioceses: {config.max_dioceses}\")\n",
    "except RuntimeError:\n",
    "    print(\"❌ Configuration not found. Please run 00_Colab_Setup.ipynb first\")\n",
    "    raise\n",
    "\n",
    "# Override max dioceses for demo (you can change this)\n",
    "config.max_dioceses = 3\n",
    "print(f\"\\n🎯 Demo will process {config.max_dioceses} dioceses\")"
   ]
  },
  {
   "cell_type": "code",
   "execution_count": null,
   "metadata": {
    "id": "run_extraction"
   },
   "outputs": [],
   "source": [
    "# Cell 2: Run the Complete Pipeline\n",
    "print(\"🚀 Starting parish extraction pipeline...\\n\")\n",
    "\n",
    "# Create and run the pipeline\n",
    "pipeline = ParishExtractionPipeline(config)\n",
    "results = pipeline.run_full_extraction()\n",
    "\n",
    "print(\"\\n✅ Pipeline completed!\")"
   ]
  },
  {
   "cell_type": "code",
   "execution_count": null,
   "metadata": {
    "id": "analyze_results"
   },
   "outputs": [],
   "source": [
    "# Cell 3: Analyze Results\n",
    "if results:\n",
    "    print(\"📊 DETAILED ANALYSIS\\n\")\n",
    "    \n",
    "    total_parishes = sum(len(r.parishes) for r in results)\n",
    "    successful_extractions = sum(1 for r in results if r.success)\n",
    "    total_saved = sum(r.saved_count for r in results)\n",
    "    \n",
    "    print(f\"Summary Statistics:\")\n",
    "    print(f\"  📋 Dioceses processed: {len(results)}\")\n",
    "    print(f\"  ✅ Successful extractions: {successful_extractions}\")\n",
    "    print(f\"  🏛️ Total parishes found: {total_parishes}\")\n",
    "    print(f\"  💾 Total parishes saved: {total_saved}\")\n",
    "    \n",
    "    if successful_extractions > 0:\n",
    "        avg_parishes = total_parishes / successful_extractions\n",
    "        print(f\"  📈 Average parishes per diocese: {avg_parishes:.1f}\")\n",
    "    \n",
    "    # Show site types detected\n",
    "    site_types = {}\n",
    "    for result in results:\n",
    "        if result.success:\n",
    "            site_type = result.site_type.value\n",
    "            site_types[site_type] = site_types.get(site_type, 0) + 1\n",
    "    \n",
    "    if site_types:\n",
    "
