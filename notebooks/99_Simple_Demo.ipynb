{
 "cells": [
  {
   "cell_type": "markdown",
   "metadata": {
    "id": "title"
   },
   "source": [
    "# Simple Parish Extraction Demo\n",
    "\n",
    "This notebook demonstrates the complete parish extraction pipeline in just a few cells.\n",
    "\n",
    "**Prerequisites**: \n",
    "1. Run `00_Colab_Setup.ipynb` first\n",
    "2. Run `01_Build_Dioceses_Database.ipynb` to populate dioceses\n",
    "\n",
    "**What this does**:\n",
    "- Finds parish directory pages for dioceses\n",
    "- Extracts parish data using AI-powered analysis\n",
    "- Saves results to your Supabase database"
   ]
  },
  {
   "cell_type": "code",
   "execution_count": null,
   "metadata": {
    "id": "setup"
   },
   "outputs": [],
   "source": [
    "# Cell 1: Setup and Configuration\n",
    "from config.settings import get_config, set_config\n",
    "from src.pipeline import ParishExtractionPipeline\n",
    "\n",
    "# Get configuration (should be set from setup notebook)\n",
    "try:\n",
    "    config = get_config()\n",
    "    print(\"✅ Configuration loaded\")\n",
    "    print(f\"   Database: {'Connected' if config.supabase else 'Not connected'}\")\n",
    "    print(f\"   AI: {'Enabled' if config.genai_enabled else 'Mock mode'}\")\n",
    "    print(f\"   Max dioceses: {config.max_dioceses}\")\n",
    "except RuntimeError:\n",
    "    print(\"❌ Configuration not found. Please run 00_Colab_Setup.ipynb first\")\n",
    "    raise\n",
    "\n",
    "# Override max dioceses for demo (you can change this)\n",
    "config.max_dioceses = 3\n",
    "print(f\"\\n🎯 Demo will process {config.max_dioceses} dioceses\")"
   ]
  },
  {
   "cell_type": "code",
   "execution_count": null,
   "metadata": {
    "id": "run_extraction"
   },
   "outputs": [],
   "source": [
    "# Cell 2: Run the Complete Pipeline\n",
    "print(\"🚀 Starting parish extraction pipeline...\\n\")\n",
    "\n",
    "# Create and run the pipeline\n",
    "pipeline = ParishExtractionPipeline(config)\n",
    "results = pipeline.run_full_extraction()\n",
    "\n",
    "print(\"\\n✅ Pipeline completed!\")"
   ]
  },
  {
   "cell_type": "code",
   "execution_count": null,
   "metadata": {
    "id": "analyze_results"
   },
   "outputs": [],
   "source": [
    "# Cell 3: Analyze Results\n",
    "if results:\n",
    "    print(\"📊 DETAILED ANALYSIS\\n\")\n",
    "    \n",
    "    total_parishes = sum(len(r.parishes) for r in results)\n",
    "    successful_extractions = sum(1 for r in results if r.success)\n",
    "    total_saved = sum(r.saved_count for r in results)\n",
    "    \n",
    "    print(f\"Summary Statistics:\")\n",
    "    print(f\"  📋 Dioceses processed: {len(results)}\")\n",
    "    print(f\"  ✅ Successful extractions: {successful_extractions}\")\n",
    "    print(f\"  🏛️ Total parishes found: {total_parishes}\")\n",
    "    print(f\"  💾 Total parishes saved: {total_saved}\")\n",
    "    \n",
    "    if successful_extractions > 0:\n",
    "        avg_parishes = total_parishes / successful_extractions\n",
    "        print(f\"  📈 Average parishes per diocese: {avg_parishes:.1f}\")\n",
    "    \n",
    "    # Show site types detected\n",
    "    site_types = {}\n",
    "    for result in results:\n",
    "        if result.success:\n",
    "            site_type = result.site_type.value\n",
    "            site_types[site_type] = site_types.get(site_type, 0) + 1\n",
    "    \n",
    "    if site_types:\n",
    "        print(f\"\\n🔍 Website Types Detected:\")\n",
    "        for site_type, count in site_types.items():\n",
    "            print(f\"  {site_type.replace('_', ' ').title()}: {count} dioceses\")\n",
    "    \n",
    "    # Show individual results\n",
    "    print(f\"\\n📋 Individual Diocese Results:\")\n",
    "    for result in results:\n",
    "        status = \"✅\" if result.success else \"❌\"\n",
    "        parishes_info = f\"{len(result.parishes)} parishes\" if result.success else \"Failed\"\n",
    "        saved_info = f\" ({result.saved_count} saved)\" if result.saved_count > 0 else \"\"\n",
    "        print(f\"  {status} {result.diocese_name}: {parishes_info}{saved_info}\")\n",
    "        \n",
    "        if result.errors:\n",
    "            for error in result.errors:\n",
    "                print(f\"      Error: {error}\")\n",
    "    \n",
    "    # Show sample parishes\n",
    "    all_parishes = []\n",
    "    for result in results:\n",
    "        all_parishes.extend(result.parishes)\n",
    "    \n",
    "    if all_parishes:\n",
    "        print(f\"\\n🏛️ Sample Parishes Extracted:\")\n",
    "        for i, parish in enumerate(all_parishes[:5], 1):\n",
    "            print(f\"  {i}. {parish.name}\")\n",
    "            if parish.city:\n",
    "                print(f\"     📍 {parish.city}\")\n",
    "            if parish.phone:\n",
    "                print(f\"     📞 {parish.phone}\")\n",
    "            if parish.website:\n",
    "                print(f\"     🌐 {parish.website}\")\n",
    "        \n",
    "        if len(all_parishes) > 5:\n",
    "            print(f\"     ... and {len(all_parishes) - 5} more parishes\")\n",
    "\n",
    "else:\n",
    "    print(\"❌ No results to analyze\")"
   ]
  },
  {
   "cell_type": "code",
   "execution_count": null,
   "metadata": {
    "id": "save_results"
   },
   "outputs": [],
   "source": [
    "# Cell 4: Save Detailed Results (Optional)\n",
    "if results:\n",
    "    print(\"💾 Saving detailed results...\")\n",
    "    \n",
    "    try:\n",
    "        pipeline.save_results_to_file(results, 'demo_extraction_results.json')\n",
    "        \n",
    "        # Download file in Colab\n",
    "        try:\n",
    "            from google.colab import files\n",
    "            files.download('demo_extraction_results.json')\n",
    "            print(\"⬇️ Results file downloaded\")\n",
    "        except ImportError:\n",
    "            print(\"📁 Results saved locally\")\n",
    "            \n",
    "    except Exception as e:\n",
    "        print(f\"❌ Error saving results: {e}\")\n",
    "\n",
    "else:\n",
    "    print(\"❌ No results to save\")"
   ]
  },
  {
   "cell_type": "code",
   "execution_count": null,
   "metadata": {
    "id": "next_steps"
   },
   "outputs": [],
   "source": [
    "# Cell 5: Next Steps and Tips\n",
    "print(\"🎉 Demo Complete!\\n\")\n",
    "\n",
    "if config.supabase:\n",
    "    print(\"✅ Check your Supabase database for the extracted parish data:\")\n",
    "    print(\"   - Table: Parishes (main parish data)\")\n",
    "    print(\"   - Table: DiocesesParishDirectory (directory URLs found)\")\n",
    "else:\n",
    "    print(\"⚠️ Database not configured - data only exists in this session\")\n",
    "\n",
    "print(\"\\n🔧 To customize the extraction:\")\n",
    "print(\"   - Increase config.max_dioceses to process more dioceses\")\n",
    "print(\"   - Modify config.ai_confidence_threshold to change AI sensitivity\")\n",
    "print(\"   - Check individual notebook files for specific extraction tasks\")\n",
    "\n",
    "print(\"\\n📚 Available notebooks:\")\n",
    "print(\"   - 01_Build_Dioceses_Database.ipynb: Extract diocese info from USCCB\")\n",
    "print(\"   - 02_Find_Parish_Directories.ipynb: Find parish directory URLs\")\n",
    "print(\"   - 03_Extract_Parish_Data.ipynb: Extract detailed parish information\")\n",
    "print(\"   - 99_Simple_Demo.ipynb: This complete pipeline demo\")\n",
    "\n",
    "if results and any(r.success for r in results):\n",
    "    print(\"\\n🎯 Success! The system successfully found and extracted parish data.\")\n",
    "    print(\"You can now scale this up to process more dioceses.\")\n",
    "else:\n",
    "    print(\"\\n🔍 If you didn't get good results, try:\")\n",
    "    print(\"   - Checking your API keys and database connection\")\n",
    "    print(\"   - Running the individual notebooks to debug specific steps\")\n",
    "    print(\"   - Increasing the number of dioceses processed\")"
   ]
  }
 ],
 "metadata": {
  "colab": {
   "provenance": []
  },
  "kernelspec": {
   "display_name": "Python 3",
   "name": "python3"
  },
  "language_info": {
   "name": "python"
  }
 },
 "nbformat": 4,
 "nbformat_minor": 0
}
