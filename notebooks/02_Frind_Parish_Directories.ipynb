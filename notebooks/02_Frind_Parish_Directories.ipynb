{
 "cells": [
  {
   "cell_type": "markdown",
   "metadata": {
    "id": "title"
   },
   "source": [
    "# Extract Parish Data\n",
    "\n",
    "This notebook extracts detailed parish information from discovered parish directory pages.\n",
    "\n",
    "**Prerequisites**: \n",
    "1. Run `00_Colab_Setup.ipynb` first\n",
    "2. Run `01_Build_Dioceses_Database.ipynb` to populate dioceses\n",
    "3. Run `02_Find_Parish_Directories.ipynb` to discover directory URLs\n",
    "\n",
    "**What this does**:\n",
    "- Detects website patterns and selects optimal extraction strategies\n",
    "- Extracts comprehensive parish data including addresses, contacts, and schedules\n",
    "- Handles multiple website platforms (eCatholic, SquareSpace, WordPress, etc.)\n",
    "- Saves extracted parish data to Supabase database"
   ]
  },
  {
   "cell_type": "code",
   "execution_count": null,
   "metadata": {
    "id": "setup_environment"
   },
   "outputs": [],
   "source": [
    "# Cell 1: Setup Environment and Imports\n",
    "import os\n",
    "import sys\n",
    "import time\n",
    "from datetime import datetime\n",
    "\n",
    "# Ensure we're in the correct directory and set up Python path\n",
    "repo_path = '/content/usccb-parish-extraction'\n",
    "\n",
    "if not os.path.exists(repo_path):\n",
    "    print(\"❌ Repository not found!\")\n",
    "    print(\"Please run 00_Colab_Setup.ipynb first to clone the repository.\")\n",
    "    raise FileNotFoundError(\"Repository not found\")\n",
    "\n",
    "# Change to repository directory and add to Python path\n",
    "os.chdir(repo_path)\n",
    "if repo_path not in sys.path:\n",
    "    sys.path.append(repo_path)\n",
    "\n",
    "print(f\"📂 Working directory: {os.getcwd()}\")\n",
    "print(\"🐍 Python path configured\")\n",
    "\n",
    "# Import required modules\n",
    "try:\n",
    "    import requests\n",
    "    from bs4 import BeautifulSoup\n",
    "    import pandas as pd\n",
    "    import json\n",
    "    \n",
    "    from config.settings import get_config\n",
    "    from src.pipeline import ParishExtractionPipeline\n",
    "    from src.models import Diocese, Parish, ExtractionResult, SiteType\n",
    "    from src.utils.webdriver import setup_driver
